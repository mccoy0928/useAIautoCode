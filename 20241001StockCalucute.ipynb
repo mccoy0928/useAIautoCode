{
  "nbformat": 4,
  "nbformat_minor": 0,
  "metadata": {
    "colab": {
      "provenance": [],
      "authorship_tag": "ABX9TyMpxU2nqTFtwqu7LENwNZE3",
      "include_colab_link": true
    },
    "kernelspec": {
      "name": "python3",
      "display_name": "Python 3"
    },
    "language_info": {
      "name": "python"
    }
  },
  "cells": [
    {
      "cell_type": "markdown",
      "metadata": {
        "id": "view-in-github",
        "colab_type": "text"
      },
      "source": [
        "<a href=\"https://colab.research.google.com/github/mccoy0928/useAIautoCode/blob/main/20241001StockCalucute.ipynb\" target=\"_parent\"><img src=\"https://colab.research.google.com/assets/colab-badge.svg\" alt=\"Open In Colab\"/></a>"
      ]
    },
    {
      "cell_type": "code",
      "execution_count": 12,
      "metadata": {
        "colab": {
          "base_uri": "https://localhost:8080/"
        },
        "id": "IAQ6Gjfxs4tj",
        "outputId": "2cfccef0-22d2-4be0-a4f1-ca9968ac8c89"
      },
      "outputs": [
        {
          "output_type": "stream",
          "name": "stdout",
          "text": [
            "已有庫存股數:400\n",
            "庫存成本:69.5\n",
            "目標總股數:1200\n",
            "目標總成本均價:70.2\n",
            "需要追加買入的股數: 800\n",
            "需要追加買入的成本: 56440.0\n",
            "追加買入的股價: 70.55\n"
          ]
        }
      ],
      "source": [
        "# prompt: 寫出一個股票計算零股追加買入股價，已有庫存700股成本是63，現在計劃補足1000股，總成本均價會在70\n",
        "\n",
        "# 已有庫存股數\n",
        "# existing_shares = 600\n",
        "existing_shares = int(input('已有庫存股數:'))\n",
        "\n",
        "# 庫存成本\n",
        "# existing_cost = 101.5\n",
        "existing_cost = float(input('庫存成本:'))\n",
        "\n",
        "# 目標總股數\n",
        "# target_shares = 1000\n",
        "target_shares = int(input('目標總股數:'))\n",
        "\n",
        "# 目標總成本均價\n",
        "# target_average_price = 99\n",
        "target_average_price = float(input('目標總成本均價:'))\n",
        "\n",
        "# 計算需要追加買入的股數\n",
        "additional_shares = target_shares - existing_shares\n",
        "\n",
        "# 計算目標總成本\n",
        "target_total_cost = target_shares * target_average_price\n",
        "\n",
        "# 計算需要追加買入的成本\n",
        "additional_cost = target_total_cost - (existing_shares * existing_cost)\n",
        "\n",
        "# 計算追加買入的股價\n",
        "additional_buy_price = additional_cost / additional_shares\n",
        "\n",
        "print(f\"需要追加買入的股數: {additional_shares}\")\n",
        "print(f\"需要追加買入的成本: {additional_cost}\")\n",
        "print(f\"追加買入的股價: {additional_buy_price}\")\n"
      ]
    }
  ]
}